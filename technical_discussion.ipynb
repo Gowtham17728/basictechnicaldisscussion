{
  "nbformat": 4,
  "nbformat_minor": 0,
  "metadata": {
    "colab": {
      "name": "technical discussion.ipynb",
      "provenance": [],
      "authorship_tag": "ABX9TyPqA+WfBGZpzuA1O2D6sWzo",
      "include_colab_link": true
    },
    "kernelspec": {
      "name": "python3",
      "display_name": "Python 3"
    },
    "language_info": {
      "name": "python"
    }
  },
  "cells": [
    {
      "cell_type": "markdown",
      "metadata": {
        "id": "view-in-github",
        "colab_type": "text"
      },
      "source": [
        "<a href=\"https://colab.research.google.com/github/Gowtham17728/basictechnicaldisscussion/blob/main/technical_discussion.ipynb\" target=\"_parent\"><img src=\"https://colab.research.google.com/assets/colab-badge.svg\" alt=\"Open In Colab\"/></a>"
      ]
    },
    {
      "cell_type": "markdown",
      "source": [
        "FIRST PRACTICE"
      ],
      "metadata": {
        "id": "3I3G1CduTX93"
      }
    },
    {
      "cell_type": "code",
      "execution_count": 1,
      "metadata": {
        "colab": {
          "base_uri": "https://localhost:8080/"
        },
        "id": "Wfh3DrhtTOPW",
        "outputId": "0857c22c-b3e5-4b5e-ccc9-def55d1bd678"
      },
      "outputs": [
        {
          "output_type": "stream",
          "name": "stdout",
          "text": [
            "hello world\n"
          ]
        }
      ],
      "source": [
        "print(\"hello world\")"
      ]
    },
    {
      "cell_type": "markdown",
      "source": [
        "EDC"
      ],
      "metadata": {
        "id": "YvQp9tm0Tdio"
      }
    },
    {
      "cell_type": "code",
      "source": [
        "print(171 + 7)"
      ],
      "metadata": {
        "colab": {
          "base_uri": "https://localhost:8080/"
        },
        "id": "uNyRJSbDTlbp",
        "outputId": "869c725a-b06e-4354-b074-6a040ddbeb19"
      },
      "execution_count": 2,
      "outputs": [
        {
          "output_type": "stream",
          "name": "stdout",
          "text": [
            "178\n"
          ]
        }
      ]
    },
    {
      "cell_type": "markdown",
      "source": [
        "FINAL"
      ],
      "metadata": {
        "id": "868fneRqTehJ"
      }
    },
    {
      "cell_type": "code",
      "source": [
        "print(\"SWEDEN\")"
      ],
      "metadata": {
        "colab": {
          "base_uri": "https://localhost:8080/"
        },
        "id": "yi_h7B6MTriy",
        "outputId": "6d878d62-1867-4a37-ff54-9ec12c8c03e7"
      },
      "execution_count": 3,
      "outputs": [
        {
          "output_type": "stream",
          "name": "stdout",
          "text": [
            "SWEDEN\n"
          ]
        }
      ]
    },
    {
      "cell_type": "markdown",
      "source": [
        "CONCLUSION"
      ],
      "metadata": {
        "id": "Nxqc0jakTfjC"
      }
    },
    {
      "cell_type": "code",
      "source": [
        "print(\"over come the problem\")"
      ],
      "metadata": {
        "colab": {
          "base_uri": "https://localhost:8080/"
        },
        "id": "dUkuP90MTxUi",
        "outputId": "d1759a6f-ab6e-4093-a49a-6ab1b8bf244a"
      },
      "execution_count": 4,
      "outputs": [
        {
          "output_type": "stream",
          "name": "stdout",
          "text": [
            "over come the problem\n"
          ]
        }
      ]
    }
  ]
}